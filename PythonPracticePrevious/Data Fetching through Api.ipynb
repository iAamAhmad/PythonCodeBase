{
 "cells": [
  {
   "cell_type": "markdown",
   "id": "179a41c7",
   "metadata": {},
   "source": [
    "# Fetching data from TMDB Api "
   ]
  },
  {
   "cell_type": "code",
   "execution_count": 1,
   "id": "90f3b9c5",
   "metadata": {},
   "outputs": [],
   "source": [
    "import pandas as pd\n",
    "import requests"
   ]
  },
  {
   "cell_type": "markdown",
   "id": "838c34ba",
   "metadata": {},
   "source": [
    "### Making api key and url seperately "
   ]
  },
  {
   "cell_type": "code",
   "execution_count": 5,
   "id": "a3530611",
   "metadata": {},
   "outputs": [],
   "source": [
    "api_key='39dd886b11367bdadf92f0236b5d95ec'\n",
    "url=f'https://api.themoviedb.org/3/movie/top_rated?api_key={api_key}&language=en-US&page=1'"
   ]
  },
  {
   "cell_type": "markdown",
   "id": "f9fcd56e",
   "metadata": {},
   "source": [
    "### Getting data from url and storing it into response variable"
   ]
  },
  {
   "cell_type": "code",
   "execution_count": 17,
   "id": "1f9bc9ea",
   "metadata": {},
   "outputs": [],
   "source": [
    "response = requests.get(url)"
   ]
  },
  {
   "cell_type": "code",
   "execution_count": 18,
   "id": "0d828885",
   "metadata": {},
   "outputs": [],
   "source": [
    "temp_df = pd.DataFrame(response.json()['results'])[['id','title','overview','release_date','popularity','vote_average','vote_count']]"
   ]
  },
  {
   "cell_type": "code",
   "execution_count": 19,
   "id": "0a429681",
   "metadata": {},
   "outputs": [
    {
     "data": {
      "text/html": [
       "<div>\n",
       "<style scoped>\n",
       "    .dataframe tbody tr th:only-of-type {\n",
       "        vertical-align: middle;\n",
       "    }\n",
       "\n",
       "    .dataframe tbody tr th {\n",
       "        vertical-align: top;\n",
       "    }\n",
       "\n",
       "    .dataframe thead th {\n",
       "        text-align: right;\n",
       "    }\n",
       "</style>\n",
       "<table border=\"1\" class=\"dataframe\">\n",
       "  <thead>\n",
       "    <tr style=\"text-align: right;\">\n",
       "      <th></th>\n",
       "      <th>id</th>\n",
       "      <th>title</th>\n",
       "      <th>overview</th>\n",
       "      <th>release_date</th>\n",
       "      <th>popularity</th>\n",
       "      <th>vote_average</th>\n",
       "      <th>vote_count</th>\n",
       "    </tr>\n",
       "  </thead>\n",
       "  <tbody>\n",
       "    <tr>\n",
       "      <th>0</th>\n",
       "      <td>238</td>\n",
       "      <td>The Godfather</td>\n",
       "      <td>Spanning the years 1945 to 1955, a chronicle o...</td>\n",
       "      <td>1972-03-14</td>\n",
       "      <td>117.912</td>\n",
       "      <td>8.7</td>\n",
       "      <td>17593</td>\n",
       "    </tr>\n",
       "    <tr>\n",
       "      <th>1</th>\n",
       "      <td>278</td>\n",
       "      <td>The Shawshank Redemption</td>\n",
       "      <td>Framed in the 1940s for the double murder of h...</td>\n",
       "      <td>1994-09-23</td>\n",
       "      <td>97.494</td>\n",
       "      <td>8.7</td>\n",
       "      <td>23432</td>\n",
       "    </tr>\n",
       "    <tr>\n",
       "      <th>2</th>\n",
       "      <td>772071</td>\n",
       "      <td>Cuando Sea Joven</td>\n",
       "      <td>70-year-old Malena gets a second chance at lif...</td>\n",
       "      <td>2022-09-14</td>\n",
       "      <td>50.035</td>\n",
       "      <td>8.7</td>\n",
       "      <td>211</td>\n",
       "    </tr>\n",
       "    <tr>\n",
       "      <th>3</th>\n",
       "      <td>995133</td>\n",
       "      <td>The Boy, the Mole, the Fox and the Horse</td>\n",
       "      <td>The unlikely friendship of a boy, a mole, a fo...</td>\n",
       "      <td>2022-12-25</td>\n",
       "      <td>59.921</td>\n",
       "      <td>8.6</td>\n",
       "      <td>260</td>\n",
       "    </tr>\n",
       "    <tr>\n",
       "      <th>4</th>\n",
       "      <td>240</td>\n",
       "      <td>The Godfather Part II</td>\n",
       "      <td>In the continuing saga of the Corleone crime f...</td>\n",
       "      <td>1974-12-20</td>\n",
       "      <td>65.399</td>\n",
       "      <td>8.6</td>\n",
       "      <td>10654</td>\n",
       "    </tr>\n",
       "  </tbody>\n",
       "</table>\n",
       "</div>"
      ],
      "text/plain": [
       "       id                                     title  \\\n",
       "0     238                             The Godfather   \n",
       "1     278                  The Shawshank Redemption   \n",
       "2  772071                          Cuando Sea Joven   \n",
       "3  995133  The Boy, the Mole, the Fox and the Horse   \n",
       "4     240                     The Godfather Part II   \n",
       "\n",
       "                                            overview release_date  popularity  \\\n",
       "0  Spanning the years 1945 to 1955, a chronicle o...   1972-03-14     117.912   \n",
       "1  Framed in the 1940s for the double murder of h...   1994-09-23      97.494   \n",
       "2  70-year-old Malena gets a second chance at lif...   2022-09-14      50.035   \n",
       "3  The unlikely friendship of a boy, a mole, a fo...   2022-12-25      59.921   \n",
       "4  In the continuing saga of the Corleone crime f...   1974-12-20      65.399   \n",
       "\n",
       "   vote_average  vote_count  \n",
       "0           8.7       17593  \n",
       "1           8.7       23432  \n",
       "2           8.7         211  \n",
       "3           8.6         260  \n",
       "4           8.6       10654  "
      ]
     },
     "execution_count": 19,
     "metadata": {},
     "output_type": "execute_result"
    }
   ],
   "source": [
    "temp_df.head()"
   ]
  },
  {
   "cell_type": "markdown",
   "id": "fc7d08b4",
   "metadata": {},
   "source": [
    "### Iterating through all the pages "
   ]
  },
  {
   "cell_type": "code",
   "execution_count": 25,
   "id": "67de85b8",
   "metadata": {},
   "outputs": [],
   "source": [
    "df = pd.DataFrame()"
   ]
  },
  {
   "cell_type": "code",
   "execution_count": 39,
   "id": "4b4ab3da",
   "metadata": {},
   "outputs": [],
   "source": [
    "for i in range(1,429):\n",
    "    url=f'https://api.themoviedb.org/3/movie/top_rated?api_key={api_key}&language=en-US&page={i}'\n",
    "    response=requests.get(url)\n",
    "    temp_df = pd.DataFrame(response.json()['results'])[['id','title','overview','release_date','popularity','vote_average','vote_count']]\n",
    "    df = pd.concat([df, temp_df],ignore_index=True)"
   ]
  },
  {
   "cell_type": "code",
   "execution_count": 40,
   "id": "7b8a92bc",
   "metadata": {},
   "outputs": [
    {
     "data": {
      "text/html": [
       "<div>\n",
       "<style scoped>\n",
       "    .dataframe tbody tr th:only-of-type {\n",
       "        vertical-align: middle;\n",
       "    }\n",
       "\n",
       "    .dataframe tbody tr th {\n",
       "        vertical-align: top;\n",
       "    }\n",
       "\n",
       "    .dataframe thead th {\n",
       "        text-align: right;\n",
       "    }\n",
       "</style>\n",
       "<table border=\"1\" class=\"dataframe\">\n",
       "  <thead>\n",
       "    <tr style=\"text-align: right;\">\n",
       "      <th></th>\n",
       "      <th>id</th>\n",
       "      <th>title</th>\n",
       "      <th>overview</th>\n",
       "      <th>release_date</th>\n",
       "      <th>popularity</th>\n",
       "      <th>vote_average</th>\n",
       "      <th>vote_count</th>\n",
       "    </tr>\n",
       "  </thead>\n",
       "  <tbody>\n",
       "    <tr>\n",
       "      <th>0</th>\n",
       "      <td>238</td>\n",
       "      <td>The Godfather</td>\n",
       "      <td>Spanning the years 1945 to 1955, a chronicle o...</td>\n",
       "      <td>1972-03-14</td>\n",
       "      <td>117.912</td>\n",
       "      <td>8.7</td>\n",
       "      <td>17593</td>\n",
       "    </tr>\n",
       "    <tr>\n",
       "      <th>1</th>\n",
       "      <td>278</td>\n",
       "      <td>The Shawshank Redemption</td>\n",
       "      <td>Framed in the 1940s for the double murder of h...</td>\n",
       "      <td>1994-09-23</td>\n",
       "      <td>97.494</td>\n",
       "      <td>8.7</td>\n",
       "      <td>23432</td>\n",
       "    </tr>\n",
       "    <tr>\n",
       "      <th>2</th>\n",
       "      <td>772071</td>\n",
       "      <td>Cuando Sea Joven</td>\n",
       "      <td>70-year-old Malena gets a second chance at lif...</td>\n",
       "      <td>2022-09-14</td>\n",
       "      <td>50.035</td>\n",
       "      <td>8.7</td>\n",
       "      <td>211</td>\n",
       "    </tr>\n",
       "    <tr>\n",
       "      <th>3</th>\n",
       "      <td>995133</td>\n",
       "      <td>The Boy, the Mole, the Fox and the Horse</td>\n",
       "      <td>The unlikely friendship of a boy, a mole, a fo...</td>\n",
       "      <td>2022-12-25</td>\n",
       "      <td>59.921</td>\n",
       "      <td>8.6</td>\n",
       "      <td>260</td>\n",
       "    </tr>\n",
       "    <tr>\n",
       "      <th>4</th>\n",
       "      <td>240</td>\n",
       "      <td>The Godfather Part II</td>\n",
       "      <td>In the continuing saga of the Corleone crime f...</td>\n",
       "      <td>1974-12-20</td>\n",
       "      <td>65.399</td>\n",
       "      <td>8.6</td>\n",
       "      <td>10654</td>\n",
       "    </tr>\n",
       "  </tbody>\n",
       "</table>\n",
       "</div>"
      ],
      "text/plain": [
       "       id                                     title  \\\n",
       "0     238                             The Godfather   \n",
       "1     278                  The Shawshank Redemption   \n",
       "2  772071                          Cuando Sea Joven   \n",
       "3  995133  The Boy, the Mole, the Fox and the Horse   \n",
       "4     240                     The Godfather Part II   \n",
       "\n",
       "                                            overview release_date  popularity  \\\n",
       "0  Spanning the years 1945 to 1955, a chronicle o...   1972-03-14     117.912   \n",
       "1  Framed in the 1940s for the double murder of h...   1994-09-23      97.494   \n",
       "2  70-year-old Malena gets a second chance at lif...   2022-09-14      50.035   \n",
       "3  The unlikely friendship of a boy, a mole, a fo...   2022-12-25      59.921   \n",
       "4  In the continuing saga of the Corleone crime f...   1974-12-20      65.399   \n",
       "\n",
       "   vote_average  vote_count  \n",
       "0           8.7       17593  \n",
       "1           8.7       23432  \n",
       "2           8.7         211  \n",
       "3           8.6         260  \n",
       "4           8.6       10654  "
      ]
     },
     "execution_count": 40,
     "metadata": {},
     "output_type": "execute_result"
    }
   ],
   "source": [
    "df.head()\n"
   ]
  },
  {
   "cell_type": "code",
   "execution_count": 41,
   "id": "682edea9",
   "metadata": {},
   "outputs": [
    {
     "data": {
      "text/plain": [
       "(25680, 7)"
      ]
     },
     "execution_count": 41,
     "metadata": {},
     "output_type": "execute_result"
    }
   ],
   "source": [
    "df.shape"
   ]
  },
  {
   "cell_type": "code",
   "execution_count": 42,
   "id": "461251bc",
   "metadata": {},
   "outputs": [],
   "source": [
    "df.to_csv('movies.csv')"
   ]
  },
  {
   "cell_type": "code",
   "execution_count": null,
   "id": "6c16472d",
   "metadata": {},
   "outputs": [],
   "source": []
  }
 ],
 "metadata": {
  "kernelspec": {
   "display_name": "Python 3 (ipykernel)",
   "language": "python",
   "name": "python3"
  },
  "language_info": {
   "codemirror_mode": {
    "name": "ipython",
    "version": 3
   },
   "file_extension": ".py",
   "mimetype": "text/x-python",
   "name": "python",
   "nbconvert_exporter": "python",
   "pygments_lexer": "ipython3",
   "version": "3.9.13"
  }
 },
 "nbformat": 4,
 "nbformat_minor": 5
}
