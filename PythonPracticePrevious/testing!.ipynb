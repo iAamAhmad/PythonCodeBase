{
 "cells": [
  {
   "cell_type": "markdown",
   "id": "5d594de1",
   "metadata": {},
   "source": [
    "# Title of the Notebook\n"
   ]
  },
  {
   "cell_type": "markdown",
   "id": "a9b199fd",
   "metadata": {},
   "source": [
    "## Introduction\n",
    "\n",
    "In this notebook, we will explore the analysis of customer churn in a telecommunications company. We will examine the data, perform exploratory data analysis, and build a predictive model to determine which customers are most likely to churn. \n"
   ]
  },
  {
   "cell_type": "markdown",
   "id": "271eef42",
   "metadata": {},
   "source": [
    "## Popular Data Science Languages\n",
    "\n",
    "- Python\n",
    "- R\n",
    "- SQL\n",
    "- Julia\n",
    "- MATLAB\n",
    "- Scala\n"
   ]
  },
  {
   "cell_type": "markdown",
   "id": "c7fcc76c",
   "metadata": {},
   "source": [
    "## Popular Data Science Libraries\n",
    "\n",
    "- NumPy\n",
    "- Pandas\n",
    "- Scikit-learn\n",
    "- Matplotlib\n",
    "- Seaborn\n",
    "- TensorFlow\n",
    "- PyTorch\n",
    "- Keras\n",
    "- XGBoost\n"
   ]
  },
  {
   "cell_type": "markdown",
   "id": "33898d09",
   "metadata": {},
   "source": [
    "## Tool\tDescription\n",
    "Python\tA popular programming language for data analysis and machine learning\n",
    "R\tA programming language for statistical computing and graphics\n",
    "SAS\tA statistical software suite used for data management, analysis, and reporting\n",
    "SQL\tA database management language used for data manipulation and querying\n",
    "Tableau\tA data visualization tool used to create interactive dashboards and reports\n",
    "Excel\tA spreadsheet program often used for data analysis and visualization\n",
    "Apache Spark\tAn open-source big data processing engine for large-scale data processing and analytics\n",
    "MATLAB\tA programming language and development environment for numerical computing and visualization\n",
    "KNIME\tAn open-source data analytics and machine learning platform for data cleaning, integration, analysis, and modeling\n",
    "TensorFlow\tAn open-source machine learning framework developed by Google for building and training machine learning models"
   ]
  },
  {
   "cell_type": "code",
   "execution_count": 10,
   "id": "d3e14153",
   "metadata": {},
   "outputs": [
    {
     "name": "stdout",
     "output_type": "stream",
     "text": [
      "The product of a and b is: 30\n",
      "The sum of a and b is: 17\n"
     ]
    }
   ],
   "source": [
    "a = 15\n",
    "b = 2\n",
    "#Multiplication of 2 numbers!\n",
    "c = a * b\n",
    "#addition of 2 numbers\n",
    "d = a + b\n",
    "print(\"The product of a and b is:\", c)\n",
    "print(\"The sum of a and b is:\", d)\n"
   ]
  },
  {
   "cell_type": "code",
   "execution_count": 4,
   "id": "70c04f08",
   "metadata": {},
   "outputs": [
    {
     "name": "stdout",
     "output_type": "stream",
     "text": [
      "There are 2.0833333333333335 hours in 125 minutes.\n"
     ]
    }
   ],
   "source": [
    "minutes = 125\n",
    "hours = minutes / 60\n",
    "print(\"There are\", hours, \"hours in\", minutes, \"minutes.\")\n"
   ]
  },
  {
   "cell_type": "markdown",
   "id": "e93b4df9",
   "metadata": {},
   "source": [
    "## Author Name\n",
    "- Muhammad Ahmad\n"
   ]
  },
  {
   "cell_type": "markdown",
   "id": "0f375ea3",
   "metadata": {},
   "source": [
    "## Objectives of making this first notebook The objectives of this first notebook are:\n",
    "\n",
    "- To learn and practice using Jupyter Notebook for data analysis and machine learning tasks.\n",
    "- To demonstrate proficiency in markdown language for creating clear and organized documentation in the notebook.\n",
    "- To explore and showcase various data science tools, languages, and libraries that can be used for data analysis and machine -  learning.\n",
    "- To implement and demonstrate various data manipulation and analysis techniques using code examples in Python.\n",
    "- To build a foundation for future data science projects and notebooks."
   ]
  },
  {
   "cell_type": "code",
   "execution_count": 7,
   "id": "fa342552",
   "metadata": {},
   "outputs": [
    {
     "data": {
      "text/plain": [
       "1"
      ]
     },
     "execution_count": 7,
     "metadata": {},
     "output_type": "execute_result"
    }
   ],
   "source": [
    "## Arithmetic expressions are used to perform mathematical operations in programming languages. The basic arithmetic operators are addition (+), subtraction (-), multiplication (*), and division (/). These operators can be used to create complex expressions that perform a variety of calculations. \n",
    "### Here are some examples of arithmetic expressions:\n",
    "# Addition\n",
    "2 + 15\n",
    "\n",
    "# Subtraction\n",
    "5 - 2\n",
    "\n",
    "# Multiplication\n",
    "3 * 4\n",
    "\n",
    "# Division\n",
    "10 / 2\n",
    "\n",
    "# Exponentiation\n",
    "2 ** 3\n",
    "\n",
    "# Modulo\n",
    "10 % 3\n"
   ]
  },
  {
   "cell_type": "code",
   "execution_count": null,
   "id": "34a59a35",
   "metadata": {},
   "outputs": [],
   "source": []
  },
  {
   "cell_type": "code",
   "execution_count": null,
   "id": "62f1d5cd",
   "metadata": {},
   "outputs": [],
   "source": []
  }
 ],
 "metadata": {
  "kernelspec": {
   "display_name": "Python 3 (ipykernel)",
   "language": "python",
   "name": "python3"
  },
  "language_info": {
   "codemirror_mode": {
    "name": "ipython",
    "version": 3
   },
   "file_extension": ".py",
   "mimetype": "text/x-python",
   "name": "python",
   "nbconvert_exporter": "python",
   "pygments_lexer": "ipython3",
   "version": "3.9.13"
  }
 },
 "nbformat": 4,
 "nbformat_minor": 5
}
