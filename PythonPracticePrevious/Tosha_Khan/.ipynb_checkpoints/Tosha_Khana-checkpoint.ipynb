{
 "cells": [
  {
   "cell_type": "code",
   "execution_count": 58,
   "id": "835fec79",
   "metadata": {},
   "outputs": [],
   "source": [
    "import pandas as pd\n",
    "%matplotlib qt5\n",
    "import matplotlib.pyplot as plt"
   ]
  },
  {
   "cell_type": "code",
   "execution_count": 40,
   "id": "a4c16850",
   "metadata": {},
   "outputs": [],
   "source": [
    "df = pd.read_csv('tosha.csv')"
   ]
  },
  {
   "cell_type": "code",
   "execution_count": 42,
   "id": "f83a825a",
   "metadata": {},
   "outputs": [
    {
     "name": "stdout",
     "output_type": "stream",
     "text": [
      "<class 'pandas.core.frame.DataFrame'>\n",
      "RangeIndex: 4214 entries, 0 to 4213\n",
      "Data columns (total 9 columns):\n",
      " #   Column             Non-Null Count  Dtype  \n",
      "---  ------             --------------  -----  \n",
      " 0   Detail of Gifts    4208 non-null   object \n",
      " 1   Item Category      2338 non-null   object \n",
      " 2   Name of Recipient  4214 non-null   object \n",
      " 3   Affiliation        3207 non-null   object \n",
      " 4   Date               4211 non-null   object \n",
      " 5   Assessed Value     4213 non-null   float64\n",
      " 6   Retention Cost     4205 non-null   float64\n",
      " 7   Retained           4203 non-null   object \n",
      " 8   Remarks            4203 non-null   object \n",
      "dtypes: float64(2), object(7)\n",
      "memory usage: 296.4+ KB\n"
     ]
    }
   ],
   "source": [
    "df.info()"
   ]
  },
  {
   "cell_type": "code",
   "execution_count": 44,
   "id": "6b4314f6",
   "metadata": {},
   "outputs": [
    {
     "name": "stdout",
     "output_type": "stream",
     "text": [
      "<class 'pandas.core.frame.DataFrame'>\n",
      "RangeIndex: 4214 entries, 0 to 4213\n",
      "Data columns (total 9 columns):\n",
      " #   Column             Non-Null Count  Dtype  \n",
      "---  ------             --------------  -----  \n",
      " 0   Detail of Gifts    4208 non-null   object \n",
      " 1   Item Category      4214 non-null   object \n",
      " 2   Name of Recipient  4214 non-null   object \n",
      " 3   Affiliation        3207 non-null   object \n",
      " 4   Date               4211 non-null   object \n",
      " 5   Assessed Value     4213 non-null   float64\n",
      " 6   Retention Cost     4205 non-null   float64\n",
      " 7   Retained           4203 non-null   object \n",
      " 8   Remarks            4203 non-null   object \n",
      "dtypes: float64(2), object(7)\n",
      "memory usage: 296.4+ KB\n"
     ]
    }
   ],
   "source": [
    "df['Item Category'].fillna('Not Known',inplace=True)\n",
    "df.info()"
   ]
  },
  {
   "cell_type": "code",
   "execution_count": 45,
   "id": "740a091a",
   "metadata": {},
   "outputs": [
    {
     "data": {
      "text/html": [
       "<div>\n",
       "<style scoped>\n",
       "    .dataframe tbody tr th:only-of-type {\n",
       "        vertical-align: middle;\n",
       "    }\n",
       "\n",
       "    .dataframe tbody tr th {\n",
       "        vertical-align: top;\n",
       "    }\n",
       "\n",
       "    .dataframe thead th {\n",
       "        text-align: right;\n",
       "    }\n",
       "</style>\n",
       "<table border=\"1\" class=\"dataframe\">\n",
       "  <thead>\n",
       "    <tr style=\"text-align: right;\">\n",
       "      <th></th>\n",
       "      <th>Detail of Gifts</th>\n",
       "      <th>Item Category</th>\n",
       "      <th>Name of Recipient</th>\n",
       "      <th>Affiliation</th>\n",
       "      <th>Date</th>\n",
       "      <th>Assessed Value</th>\n",
       "      <th>Retention Cost</th>\n",
       "      <th>Retained</th>\n",
       "      <th>Remarks</th>\n",
       "    </tr>\n",
       "  </thead>\n",
       "  <tbody>\n",
       "    <tr>\n",
       "      <th>0</th>\n",
       "      <td>Two  small  silver\\nBowls</td>\n",
       "      <td>Decoration Pieces</td>\n",
       "      <td>Mr.  Abdul  Sattar,  Minister  for  Foreign\\nA...</td>\n",
       "      <td>Gen. Musharrafarraf</td>\n",
       "      <td>1/8/2002</td>\n",
       "      <td>5000.0</td>\n",
       "      <td>0.0</td>\n",
       "      <td>Yes</td>\n",
       "      <td>Yes</td>\n",
       "    </tr>\n",
       "    <tr>\n",
       "      <th>1</th>\n",
       "      <td>One Pilot Pen with\\nink</td>\n",
       "      <td>Pen</td>\n",
       "      <td>Mr.  Abdul  Sattar,  Minister  for  Foreign\\nA...</td>\n",
       "      <td>Gen. Musharraf</td>\n",
       "      <td>1/8/2002</td>\n",
       "      <td>3500.0</td>\n",
       "      <td>0.0</td>\n",
       "      <td>Yes</td>\n",
       "      <td>Yes</td>\n",
       "    </tr>\n",
       "  </tbody>\n",
       "</table>\n",
       "</div>"
      ],
      "text/plain": [
       "             Detail of Gifts      Item Category  \\\n",
       "0  Two  small  silver\\nBowls  Decoration Pieces   \n",
       "1    One Pilot Pen with\\nink                Pen   \n",
       "\n",
       "                                   Name of Recipient          Affiliation  \\\n",
       "0  Mr.  Abdul  Sattar,  Minister  for  Foreign\\nA...  Gen. Musharrafarraf   \n",
       "1  Mr.  Abdul  Sattar,  Minister  for  Foreign\\nA...       Gen. Musharraf   \n",
       "\n",
       "       Date  Assessed Value  Retention Cost Retained Remarks  \n",
       "0  1/8/2002          5000.0             0.0      Yes     Yes  \n",
       "1  1/8/2002          3500.0             0.0      Yes     Yes  "
      ]
     },
     "execution_count": 45,
     "metadata": {},
     "output_type": "execute_result"
    }
   ],
   "source": [
    "df.head(2)"
   ]
  },
  {
   "cell_type": "code",
   "execution_count": 46,
   "id": "2547e351",
   "metadata": {},
   "outputs": [
    {
     "data": {
      "text/plain": [
       "array(['Gen. Musharrafarraf', 'Gen. Musharraf', 'Judiciary', 'Military',\n",
       "       'Bureaucracy', 'Police', 'Media', 'PPP', nan, 'MMA', 'Gen Mus',\n",
       "       'PMLN', 'PTI'], dtype=object)"
      ]
     },
     "execution_count": 46,
     "metadata": {},
     "output_type": "execute_result"
    }
   ],
   "source": [
    "df.Affiliation.unique()"
   ]
  },
  {
   "cell_type": "code",
   "execution_count": 47,
   "id": "66ac95a7",
   "metadata": {},
   "outputs": [],
   "source": [
    "df.Affiliation.replace({'Gen. Musharrafarraf':'General Musharraf'},inplace=True)\n",
    "df.Affiliation.replace({'Gen. Musharraf':'General Musharraf'},inplace=True)\n",
    "df.Affiliation.replace({'Gen Mus':'General Musharraf'},inplace=True)\n",
    "df.rename(columns={'Name of Recipient': 'Name_of_Recipient'},inplace=True)"
   ]
  },
  {
   "cell_type": "code",
   "execution_count": 48,
   "id": "fd5fcc18",
   "metadata": {},
   "outputs": [
    {
     "data": {
      "text/html": [
       "<div>\n",
       "<style scoped>\n",
       "    .dataframe tbody tr th:only-of-type {\n",
       "        vertical-align: middle;\n",
       "    }\n",
       "\n",
       "    .dataframe tbody tr th {\n",
       "        vertical-align: top;\n",
       "    }\n",
       "\n",
       "    .dataframe thead th {\n",
       "        text-align: right;\n",
       "    }\n",
       "</style>\n",
       "<table border=\"1\" class=\"dataframe\">\n",
       "  <thead>\n",
       "    <tr style=\"text-align: right;\">\n",
       "      <th></th>\n",
       "      <th>Detail of Gifts</th>\n",
       "      <th>Item Category</th>\n",
       "      <th>Name_of_Recipient</th>\n",
       "      <th>Affiliation</th>\n",
       "      <th>Date</th>\n",
       "      <th>Assessed Value</th>\n",
       "      <th>Retention Cost</th>\n",
       "      <th>Retained</th>\n",
       "      <th>Remarks</th>\n",
       "    </tr>\n",
       "  </thead>\n",
       "  <tbody>\n",
       "    <tr>\n",
       "      <th>0</th>\n",
       "      <td>Two  small  silver\\nBowls</td>\n",
       "      <td>Decoration Pieces</td>\n",
       "      <td>Mr.  Abdul  Sattar,  Minister  for  Foreign\\nA...</td>\n",
       "      <td>General Musharraf</td>\n",
       "      <td>1/8/2002</td>\n",
       "      <td>5000.0</td>\n",
       "      <td>0.0</td>\n",
       "      <td>Yes</td>\n",
       "      <td>Yes</td>\n",
       "    </tr>\n",
       "    <tr>\n",
       "      <th>1</th>\n",
       "      <td>One Pilot Pen with\\nink</td>\n",
       "      <td>Pen</td>\n",
       "      <td>Mr.  Abdul  Sattar,  Minister  for  Foreign\\nA...</td>\n",
       "      <td>General Musharraf</td>\n",
       "      <td>1/8/2002</td>\n",
       "      <td>3500.0</td>\n",
       "      <td>0.0</td>\n",
       "      <td>Yes</td>\n",
       "      <td>Yes</td>\n",
       "    </tr>\n",
       "  </tbody>\n",
       "</table>\n",
       "</div>"
      ],
      "text/plain": [
       "             Detail of Gifts      Item Category  \\\n",
       "0  Two  small  silver\\nBowls  Decoration Pieces   \n",
       "1    One Pilot Pen with\\nink                Pen   \n",
       "\n",
       "                                   Name_of_Recipient        Affiliation  \\\n",
       "0  Mr.  Abdul  Sattar,  Minister  for  Foreign\\nA...  General Musharraf   \n",
       "1  Mr.  Abdul  Sattar,  Minister  for  Foreign\\nA...  General Musharraf   \n",
       "\n",
       "       Date  Assessed Value  Retention Cost Retained Remarks  \n",
       "0  1/8/2002          5000.0             0.0      Yes     Yes  \n",
       "1  1/8/2002          3500.0             0.0      Yes     Yes  "
      ]
     },
     "execution_count": 48,
     "metadata": {},
     "output_type": "execute_result"
    }
   ],
   "source": [
    "df.head(2)"
   ]
  },
  {
   "cell_type": "code",
   "execution_count": 49,
   "id": "3b643845",
   "metadata": {},
   "outputs": [
    {
     "data": {
      "text/plain": [
       "array(['General Musharraf', 'Judiciary', 'Military', 'Bureaucracy',\n",
       "       'Police', 'Media', 'PPP', nan, 'MMA', 'PMLN', 'PTI'], dtype=object)"
      ]
     },
     "execution_count": 49,
     "metadata": {},
     "output_type": "execute_result"
    }
   ],
   "source": [
    "df.Affiliation.unique()"
   ]
  },
  {
   "cell_type": "code",
   "execution_count": 51,
   "id": "62a539ab",
   "metadata": {},
   "outputs": [
    {
     "data": {
      "text/plain": [
       "General Musharraf    1157\n",
       "Military              734\n",
       "Bureaucracy           299\n",
       "PTI                   261\n",
       "PMLN                  256\n",
       "PPP                   249\n",
       "Media                 121\n",
       "Police                119\n",
       "Judiciary               9\n",
       "MMA                     2\n",
       "Name: Affiliation, dtype: int64"
      ]
     },
     "execution_count": 51,
     "metadata": {},
     "output_type": "execute_result"
    }
   ],
   "source": [
    "df.Affiliation.value_counts()"
   ]
  },
  {
   "cell_type": "code",
   "execution_count": 52,
   "id": "5fe3a631",
   "metadata": {},
   "outputs": [
    {
     "data": {
      "text/plain": [
       "General Musharraf    1157\n",
       "Military              734\n",
       "Bureaucracy           299\n",
       "PTI                   261\n",
       "PMLN                  256\n",
       "PPP                   249\n",
       "Media                 121\n",
       "Police                119\n",
       "Judiciary               9\n",
       "MMA                     2\n",
       "Name: Affiliation, dtype: int64"
      ]
     },
     "execution_count": 52,
     "metadata": {},
     "output_type": "execute_result"
    }
   ],
   "source": [
    "df_aff = df.Affiliation.value_counts()\n",
    "df_aff\n"
   ]
  },
  {
   "cell_type": "code",
   "execution_count": 54,
   "id": "26b70101",
   "metadata": {},
   "outputs": [
    {
     "data": {
      "text/html": [
       "<div>\n",
       "<style scoped>\n",
       "    .dataframe tbody tr th:only-of-type {\n",
       "        vertical-align: middle;\n",
       "    }\n",
       "\n",
       "    .dataframe tbody tr th {\n",
       "        vertical-align: top;\n",
       "    }\n",
       "\n",
       "    .dataframe thead th {\n",
       "        text-align: right;\n",
       "    }\n",
       "</style>\n",
       "<table border=\"1\" class=\"dataframe\">\n",
       "  <thead>\n",
       "    <tr style=\"text-align: right;\">\n",
       "      <th></th>\n",
       "      <th>Retaintion</th>\n",
       "    </tr>\n",
       "    <tr>\n",
       "      <th>Affiliation</th>\n",
       "      <th></th>\n",
       "    </tr>\n",
       "  </thead>\n",
       "  <tbody>\n",
       "    <tr>\n",
       "      <th>General Musharraf</th>\n",
       "      <td>1086</td>\n",
       "    </tr>\n",
       "    <tr>\n",
       "      <th>Military</th>\n",
       "      <td>694</td>\n",
       "    </tr>\n",
       "    <tr>\n",
       "      <th>Bureaucracy</th>\n",
       "      <td>257</td>\n",
       "    </tr>\n",
       "    <tr>\n",
       "      <th>PPP</th>\n",
       "      <td>242</td>\n",
       "    </tr>\n",
       "    <tr>\n",
       "      <th>PMLN</th>\n",
       "      <td>199</td>\n",
       "    </tr>\n",
       "    <tr>\n",
       "      <th>PTI</th>\n",
       "      <td>177</td>\n",
       "    </tr>\n",
       "    <tr>\n",
       "      <th>Media</th>\n",
       "      <td>119</td>\n",
       "    </tr>\n",
       "    <tr>\n",
       "      <th>Police</th>\n",
       "      <td>114</td>\n",
       "    </tr>\n",
       "    <tr>\n",
       "      <th>Judiciary</th>\n",
       "      <td>6</td>\n",
       "    </tr>\n",
       "    <tr>\n",
       "      <th>MMA</th>\n",
       "      <td>2</td>\n",
       "    </tr>\n",
       "  </tbody>\n",
       "</table>\n",
       "</div>"
      ],
      "text/plain": [
       "                   Retaintion\n",
       "Affiliation                  \n",
       "General Musharraf        1086\n",
       "Military                  694\n",
       "Bureaucracy               257\n",
       "PPP                       242\n",
       "PMLN                      199\n",
       "PTI                       177\n",
       "Media                     119\n",
       "Police                    114\n",
       "Judiciary                   6\n",
       "MMA                         2"
      ]
     },
     "execution_count": 54,
     "metadata": {},
     "output_type": "execute_result"
    }
   ],
   "source": [
    "df_ret = df[df.Retained == 'Yes'].groupby('Affiliation').Affiliation.count().sort_values(ascending=False)\n",
    "df_ret = pd.DataFrame(df_ret)\n",
    "df_ret.rename(columns={'Affiliation':'Retaintion'},inplace=True)\n",
    "df_ret"
   ]
  },
  {
   "cell_type": "code",
   "execution_count": 61,
   "id": "ef921a28",
   "metadata": {},
   "outputs": [],
   "source": [
    "plt.bar(df_ret.index, df_ret['Retaintion'])\n",
    "plt.xlabel('Affiliation')\n",
    "plt.ylabel('Retaintion')\n",
    "plt.title('Retaintion by Affiliation')\n",
    "plt.show()"
   ]
  },
  {
   "cell_type": "code",
   "execution_count": 63,
   "id": "c99139b6",
   "metadata": {},
   "outputs": [
    {
     "data": {
      "text/html": [
       "<div>\n",
       "<style scoped>\n",
       "    .dataframe tbody tr th:only-of-type {\n",
       "        vertical-align: middle;\n",
       "    }\n",
       "\n",
       "    .dataframe tbody tr th {\n",
       "        vertical-align: top;\n",
       "    }\n",
       "\n",
       "    .dataframe thead th {\n",
       "        text-align: right;\n",
       "    }\n",
       "</style>\n",
       "<table border=\"1\" class=\"dataframe\">\n",
       "  <thead>\n",
       "    <tr style=\"text-align: right;\">\n",
       "      <th></th>\n",
       "      <th>Affiliation</th>\n",
       "      <th>Retaintion</th>\n",
       "    </tr>\n",
       "  </thead>\n",
       "  <tbody>\n",
       "    <tr>\n",
       "      <th>General Musharraf</th>\n",
       "      <td>1157</td>\n",
       "      <td>1086</td>\n",
       "    </tr>\n",
       "    <tr>\n",
       "      <th>Military</th>\n",
       "      <td>734</td>\n",
       "      <td>694</td>\n",
       "    </tr>\n",
       "    <tr>\n",
       "      <th>Bureaucracy</th>\n",
       "      <td>299</td>\n",
       "      <td>257</td>\n",
       "    </tr>\n",
       "    <tr>\n",
       "      <th>PTI</th>\n",
       "      <td>261</td>\n",
       "      <td>177</td>\n",
       "    </tr>\n",
       "    <tr>\n",
       "      <th>PMLN</th>\n",
       "      <td>256</td>\n",
       "      <td>199</td>\n",
       "    </tr>\n",
       "    <tr>\n",
       "      <th>PPP</th>\n",
       "      <td>249</td>\n",
       "      <td>242</td>\n",
       "    </tr>\n",
       "    <tr>\n",
       "      <th>Media</th>\n",
       "      <td>121</td>\n",
       "      <td>119</td>\n",
       "    </tr>\n",
       "    <tr>\n",
       "      <th>Police</th>\n",
       "      <td>119</td>\n",
       "      <td>114</td>\n",
       "    </tr>\n",
       "    <tr>\n",
       "      <th>Judiciary</th>\n",
       "      <td>9</td>\n",
       "      <td>6</td>\n",
       "    </tr>\n",
       "    <tr>\n",
       "      <th>MMA</th>\n",
       "      <td>2</td>\n",
       "      <td>2</td>\n",
       "    </tr>\n",
       "  </tbody>\n",
       "</table>\n",
       "</div>"
      ],
      "text/plain": [
       "                   Affiliation  Retaintion\n",
       "General Musharraf         1157        1086\n",
       "Military                   734         694\n",
       "Bureaucracy                299         257\n",
       "PTI                        261         177\n",
       "PMLN                       256         199\n",
       "PPP                        249         242\n",
       "Media                      121         119\n",
       "Police                     119         114\n",
       "Judiciary                    9           6\n",
       "MMA                          2           2"
      ]
     },
     "execution_count": 63,
     "metadata": {},
     "output_type": "execute_result"
    }
   ],
   "source": [
    "data = pd.concat([df_aff,df_ret], axis=1, join='inner')\n",
    "data"
   ]
  },
  {
   "cell_type": "code",
   "execution_count": 81,
   "id": "bde8b0db",
   "metadata": {},
   "outputs": [],
   "source": [
    "bar_width = 0.35\n",
    "# Create the barplot\n",
    "r1 = np.arange(len(data.index))\n",
    "r2 = [x + bar_width for x in r1]\n",
    "plt.bar(r1, data.Affiliation, color='green', width=bar_width, edgecolor='white', label='Recieved')\n",
    "plt.bar(r2, data.Retaintion, color='orange', width=bar_width, edgecolor='white', label='Retained')\n",
    "\n",
    "# Add xticks and labels\n",
    "plt.xticks([r + bar_width for r in range(len(data.index))], data.index)\n",
    "plt.title('Comparison of Recieved and retained GIFTS by every rulling elite!')\n",
    "\n",
    "# Add a legend\n",
    "plt.legend()\n",
    "plt.xticks(rotation=75)\n",
    "# Show the plot\n",
    "plt.show()"
   ]
  },
  {
   "cell_type": "code",
   "execution_count": 89,
   "id": "1d464333",
   "metadata": {},
   "outputs": [
    {
     "name": "stderr",
     "output_type": "stream",
     "text": [
      "C:\\Users\\Dell\\AppData\\Local\\Temp\\ipykernel_4572\\2130616596.py:1: SettingWithCopyWarning: \n",
      "A value is trying to be set on a copy of a slice from a DataFrame\n",
      "\n",
      "See the caveats in the documentation: https://pandas.pydata.org/pandas-docs/stable/user_guide/indexing.html#returning-a-view-versus-a-copy\n",
      "  df['Name_of_Recipient'].loc[df['Name_of_Recipient'].str.contains('Aziz',regex=True) & df['Name_of_Recipient'].str.contains('Shaukat',regex=True)] = 'Shaukat Aziz PM'\n"
     ]
    }
   ],
   "source": [
    "df['Name_of_Recipient'].loc[df['Name_of_Recipient'].str.contains('Aziz',regex=True) & \n",
    "                            df['Name_of_Recipient'].str.contains('Shaukat',regex=True)] = 'Shaukat Aziz PM'"
   ]
  },
  {
   "cell_type": "code",
   "execution_count": null,
   "id": "c2412472",
   "metadata": {},
   "outputs": [],
   "source": []
  },
  {
   "cell_type": "code",
   "execution_count": null,
   "id": "e5eda631",
   "metadata": {},
   "outputs": [],
   "source": []
  },
  {
   "cell_type": "code",
   "execution_count": null,
   "id": "0d61e10b",
   "metadata": {},
   "outputs": [],
   "source": []
  }
 ],
 "metadata": {
  "kernelspec": {
   "display_name": "Python 3 (ipykernel)",
   "language": "python",
   "name": "python3"
  },
  "language_info": {
   "codemirror_mode": {
    "name": "ipython",
    "version": 3
   },
   "file_extension": ".py",
   "mimetype": "text/x-python",
   "name": "python",
   "nbconvert_exporter": "python",
   "pygments_lexer": "ipython3",
   "version": "3.9.13"
  }
 },
 "nbformat": 4,
 "nbformat_minor": 5
}
