{
 "cells": [
  {
   "cell_type": "code",
   "execution_count": 10,
   "id": "279b0ed5",
   "metadata": {},
   "outputs": [
    {
     "name": "stdout",
     "output_type": "stream",
     "text": [
      "0\n"
     ]
    }
   ],
   "source": [
    "import re\n",
    "\n",
    "def find_numbers_and_compute_sum(filename):\n",
    "    # Read the file\n",
    "    with open(filename, 'r') as file:\n",
    "        content = file.read()\n",
    "\n",
    "    # Extract the numbers using regular expressions\n",
    "    numbers = re.findall(r'\\d+', content)\n",
    "\n",
    "    # Convert the numbers from strings to integers and compute the sum\n",
    "    total_sum = sum(int(number) for number in numbers)\n",
    "\n",
    "    return total_sum\n",
    "\n",
    "# Usage: Replace 'filename.txt' with the actual path to your file\n",
    "result = find_numbers_and_compute_sum('regex_sum_1832018.txt')\n",
    "print(result)\n"
   ]
  }
 ],
 "metadata": {
  "kernelspec": {
   "display_name": "Python 3 (ipykernel)",
   "language": "python",
   "name": "python3"
  },
  "language_info": {
   "codemirror_mode": {
    "name": "ipython",
    "version": 3
   },
   "file_extension": ".py",
   "mimetype": "text/x-python",
   "name": "python",
   "nbconvert_exporter": "python",
   "pygments_lexer": "ipython3",
   "version": "3.9.13"
  }
 },
 "nbformat": 4,
 "nbformat_minor": 5
}
