{
 "cells": [
  {
   "cell_type": "code",
   "execution_count": 1,
   "id": "e41a795b",
   "metadata": {},
   "outputs": [],
   "source": [
    "import numpy as np"
   ]
  },
  {
   "attachments": {},
   "cell_type": "markdown",
   "id": "380fe266",
   "metadata": {},
   "source": [
    "## Creating 1 dimensional array"
   ]
  },
  {
   "cell_type": "code",
   "execution_count": 2,
   "id": "3d871d90",
   "metadata": {},
   "outputs": [
    {
     "data": {
      "text/plain": [
       "array([1, 2, 3, 4])"
      ]
     },
     "execution_count": 2,
     "metadata": {},
     "output_type": "execute_result"
    }
   ],
   "source": [
    "a1D = np.array([1, 2, 3, 4])\n",
    "a1D\n"
   ]
  },
  {
   "attachments": {},
   "cell_type": "markdown",
   "id": "5bfa58ae",
   "metadata": {},
   "source": [
    "## Creating 2 dimensional array"
   ]
  },
  {
   "cell_type": "code",
   "execution_count": 4,
   "id": "b0084d5a",
   "metadata": {},
   "outputs": [
    {
     "data": {
      "text/plain": [
       "array([[1, 2],\n",
       "       [3, 4]])"
      ]
     },
     "execution_count": 4,
     "metadata": {},
     "output_type": "execute_result"
    }
   ],
   "source": [
    "a2D = np.array([[1, 2], [3, 4]])\n",
    "a2D"
   ]
  },
  {
   "attachments": {},
   "cell_type": "markdown",
   "id": "852190ed",
   "metadata": {},
   "source": [
    "## Creating 3 dimensional array"
   ]
  },
  {
   "cell_type": "code",
   "execution_count": 3,
   "id": "cd073b78",
   "metadata": {},
   "outputs": [
    {
     "data": {
      "text/plain": [
       "array([[[1, 2],\n",
       "        [3, 4]],\n",
       "\n",
       "       [[5, 6],\n",
       "        [7, 8]]])"
      ]
     },
     "execution_count": 3,
     "metadata": {},
     "output_type": "execute_result"
    }
   ],
   "source": [
    "a3D = np.array([[[1, 2], [3, 4]], [[5, 6], [7, 8]]])\n",
    "a3D\n"
   ]
  },
  {
   "cell_type": "code",
   "execution_count": null,
   "id": "d0003c56",
   "metadata": {},
   "outputs": [],
   "source": []
  }
 ],
 "metadata": {
  "kernelspec": {
   "display_name": "Python 3 (ipykernel)",
   "language": "python",
   "name": "python3"
  },
  "language_info": {
   "codemirror_mode": {
    "name": "ipython",
    "version": 3
   },
   "file_extension": ".py",
   "mimetype": "text/x-python",
   "name": "python",
   "nbconvert_exporter": "python",
   "pygments_lexer": "ipython3",
   "version": "3.9.13"
  }
 },
 "nbformat": 4,
 "nbformat_minor": 5
}
